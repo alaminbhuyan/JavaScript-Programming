{
 "cells": [
  {
   "cell_type": "markdown",
   "id": "1d9fb734",
   "metadata": {},
   "source": [
    "### There are 4 ways to create a new date object:\n",
    "\n",
    "1. new Date()\n",
    "2. new Date(year, month, day, hours, minutes, seconds, milliseconds)\n",
    "3. new Date(milliseconds)\n",
    "4. new Date(date string)"
   ]
  },
  {
   "cell_type": "code",
   "execution_count": 1,
   "id": "6aa91a32",
   "metadata": {},
   "outputs": [],
   "source": [
    "let d = new Date()"
   ]
  },
  {
   "cell_type": "code",
   "execution_count": 2,
   "id": "a10e2f14",
   "metadata": {},
   "outputs": [
    {
     "name": "stdout",
     "output_type": "stream",
     "text": [
      "2021-05-21T03:24:34.827Z\n"
     ]
    }
   ],
   "source": [
    "console.log(d)"
   ]
  },
  {
   "cell_type": "code",
   "execution_count": 3,
   "id": "68594cd0",
   "metadata": {},
   "outputs": [],
   "source": [
    "// Note: JavaScript counts months from 0 to 11.\n",
    "// January is 0. December is 11.\n",
    "\n",
    "let d2 = new Date(2018, 11, 24, 10, 33, 30, 0)"
   ]
  },
  {
   "cell_type": "code",
   "execution_count": 4,
   "id": "59895efb",
   "metadata": {},
   "outputs": [
    {
     "name": "stdout",
     "output_type": "stream",
     "text": [
      "2018-12-24T04:33:30.000Z\n"
     ]
    }
   ],
   "source": [
    "console.log(d2)"
   ]
  },
  {
   "cell_type": "markdown",
   "id": "2e312951",
   "metadata": {},
   "source": [
    "### new Date(dateString)"
   ]
  },
  {
   "cell_type": "code",
   "execution_count": 5,
   "id": "e52eecab",
   "metadata": {},
   "outputs": [],
   "source": [
    "let d3 = new Date(\"October 13, 2021 11:13:00\")"
   ]
  },
  {
   "cell_type": "code",
   "execution_count": 6,
   "id": "992dcabd",
   "metadata": {},
   "outputs": [
    {
     "name": "stdout",
     "output_type": "stream",
     "text": [
      "2021-10-13T05:13:00.000Z\n"
     ]
    }
   ],
   "source": [
    "console.log(d3)"
   ]
  },
  {
   "cell_type": "markdown",
   "id": "5c8b7976",
   "metadata": {},
   "source": [
    "### new Date(milliseconds)"
   ]
  },
  {
   "cell_type": "code",
   "execution_count": 7,
   "id": "fd12a830",
   "metadata": {},
   "outputs": [],
   "source": [
    "var d4 = new Date(100000000000)"
   ]
  },
  {
   "cell_type": "code",
   "execution_count": 8,
   "id": "20004a54",
   "metadata": {},
   "outputs": [
    {
     "name": "stdout",
     "output_type": "stream",
     "text": [
      "1973-03-03T09:46:40.000Z\n"
     ]
    }
   ],
   "source": [
    "console.log(d4)"
   ]
  },
  {
   "cell_type": "markdown",
   "id": "f53d3e8c",
   "metadata": {},
   "source": [
    "### Date Methods"
   ]
  },
  {
   "cell_type": "code",
   "execution_count": 9,
   "id": "b4219319",
   "metadata": {},
   "outputs": [],
   "source": [
    "var d5 = new Date()"
   ]
  },
  {
   "cell_type": "code",
   "execution_count": 10,
   "id": "8e4b7442",
   "metadata": {},
   "outputs": [
    {
     "name": "stdout",
     "output_type": "stream",
     "text": [
      "Fri, 21 May 2021 03:34:12 GMT\n"
     ]
    }
   ],
   "source": [
    "console.log(d5.toUTCString())"
   ]
  },
  {
   "cell_type": "code",
   "execution_count": 11,
   "id": "8388a396",
   "metadata": {},
   "outputs": [],
   "source": [
    "var d6 = new Date()"
   ]
  },
  {
   "cell_type": "code",
   "execution_count": 12,
   "id": "e4126f44",
   "metadata": {},
   "outputs": [
    {
     "name": "stdout",
     "output_type": "stream",
     "text": [
      "Fri May 21 2021 09:35:24 GMT+0600 (Bangladesh Standard Time)\n"
     ]
    }
   ],
   "source": [
    "console.log(d6.toString())"
   ]
  },
  {
   "cell_type": "code",
   "execution_count": 13,
   "id": "6a90697e",
   "metadata": {},
   "outputs": [],
   "source": [
    "let d7 = new Date()"
   ]
  },
  {
   "cell_type": "code",
   "execution_count": 14,
   "id": "0abf317a",
   "metadata": {},
   "outputs": [
    {
     "name": "stdout",
     "output_type": "stream",
     "text": [
      "Fri May 21 2021\n"
     ]
    }
   ],
   "source": [
    "console.log(d7.toDateString())"
   ]
  },
  {
   "cell_type": "code",
   "execution_count": 15,
   "id": "7809c16d",
   "metadata": {},
   "outputs": [],
   "source": [
    "let d8 = new Date()"
   ]
  },
  {
   "cell_type": "code",
   "execution_count": 16,
   "id": "052cda61",
   "metadata": {},
   "outputs": [
    {
     "name": "stdout",
     "output_type": "stream",
     "text": [
      "Fri, 21 May 2021 03:36:59 GMT\n"
     ]
    }
   ],
   "source": [
    "console.log(d8.toGMTString())"
   ]
  },
  {
   "cell_type": "code",
   "execution_count": 17,
   "id": "d3273d93",
   "metadata": {},
   "outputs": [],
   "source": [
    "let d9 = new Date()"
   ]
  },
  {
   "cell_type": "code",
   "execution_count": 18,
   "id": "468e7496",
   "metadata": {},
   "outputs": [
    {
     "name": "stdout",
     "output_type": "stream",
     "text": [
      "2021-05-21T03:39:29.941Z\n"
     ]
    }
   ],
   "source": [
    "console.log(d9.toISOString())"
   ]
  },
  {
   "cell_type": "code",
   "execution_count": 19,
   "id": "b9472f34",
   "metadata": {},
   "outputs": [],
   "source": [
    "let d10 = new Date()"
   ]
  },
  {
   "cell_type": "code",
   "execution_count": 20,
   "id": "26f8f32e",
   "metadata": {},
   "outputs": [
    {
     "name": "stdout",
     "output_type": "stream",
     "text": [
      "2021-05-21T03:39:52.303Z\n"
     ]
    }
   ],
   "source": [
    "console.log(d10.toJSON())"
   ]
  },
  {
   "cell_type": "code",
   "execution_count": 21,
   "id": "7b6be6ed",
   "metadata": {},
   "outputs": [
    {
     "name": "stdout",
     "output_type": "stream",
     "text": [
      "5/21/2021\n"
     ]
    }
   ],
   "source": [
    "console.log(d10.toLocaleDateString())"
   ]
  },
  {
   "cell_type": "code",
   "execution_count": 22,
   "id": "b16b5ba5",
   "metadata": {},
   "outputs": [
    {
     "name": "stdout",
     "output_type": "stream",
     "text": [
      "5/21/2021, 9:39:52 AM\n"
     ]
    }
   ],
   "source": [
    "console.log(d10.toLocaleString())"
   ]
  },
  {
   "cell_type": "code",
   "execution_count": 23,
   "id": "a99223d9",
   "metadata": {},
   "outputs": [
    {
     "name": "stdout",
     "output_type": "stream",
     "text": [
      "9:39:52 AM\n"
     ]
    }
   ],
   "source": [
    "console.log(d10.toLocaleTimeString())"
   ]
  },
  {
   "cell_type": "code",
   "execution_count": 24,
   "id": "eb09c1cb",
   "metadata": {},
   "outputs": [],
   "source": [
    "let d11 = new Date(\"2021-05-23\")"
   ]
  },
  {
   "cell_type": "code",
   "execution_count": 25,
   "id": "bc075b05",
   "metadata": {},
   "outputs": [
    {
     "name": "stdout",
     "output_type": "stream",
     "text": [
      "2021-05-23T00:00:00.000Z\n"
     ]
    }
   ],
   "source": [
    "console.log(d11)"
   ]
  },
  {
   "cell_type": "code",
   "execution_count": 29,
   "id": "f68984c6",
   "metadata": {},
   "outputs": [
    {
     "data": {
      "text/plain": [
       "2021-05-20T18:00:00.000Z"
      ]
     },
     "execution_count": 29,
     "metadata": {},
     "output_type": "execute_result"
    }
   ],
   "source": [
    "d12 = new Date(\"05/21/2021\")"
   ]
  },
  {
   "cell_type": "code",
   "execution_count": 30,
   "id": "7433fa56",
   "metadata": {},
   "outputs": [
    {
     "name": "stdout",
     "output_type": "stream",
     "text": [
      "2021-05-20T18:00:00.000Z\n"
     ]
    }
   ],
   "source": [
    "console.log(d12)"
   ]
  },
  {
   "attachments": {
    "Get_dates.png": {
     "image/png": "[encoded data removed]"
    }
   },
   "cell_type": "markdown",
   "id": "4fc2a617",
   "metadata": {},
   "source": [
    "![Get_dates.png](attachment:Get_dates.png)"
   ]
  },
  {
   "cell_type": "code",
   "execution_count": 31,
   "id": "49ee9e40",
   "metadata": {},
   "outputs": [],
   "source": [
    "let d13 = new Date()"
   ]
  },
  {
   "cell_type": "code",
   "execution_count": 32,
   "id": "6e7ca69d",
   "metadata": {},
   "outputs": [
    {
     "name": "stdout",
     "output_type": "stream",
     "text": [
      "1621568899008\n"
     ]
    }
   ],
   "source": [
    "console.log(d13.getTime())"
   ]
  },
  {
   "cell_type": "code",
   "execution_count": 33,
   "id": "70e67ae9",
   "metadata": {},
   "outputs": [
    {
     "name": "stdout",
     "output_type": "stream",
     "text": [
      "2021\n"
     ]
    }
   ],
   "source": [
    "console.log(d13.getFullYear())"
   ]
  },
  {
   "attachments": {
    "get_UTC_dates.png": {
     "image/png": "[encoded data removed]"
    }
   },
   "cell_type": "markdown",
   "id": "65e3da40",
   "metadata": {},
   "source": [
    "![get_UTC_dates.png](attachment:get_UTC_dates.png)"
   ]
  },
  {
   "cell_type": "code",
   "execution_count": 34,
   "id": "0823b9e7",
   "metadata": {},
   "outputs": [
    {
     "name": "stdout",
     "output_type": "stream",
     "text": [
      "5\n"
     ]
    }
   ],
   "source": [
    "console.log(d13.getUTCDay())"
   ]
  },
  {
   "attachments": {
    "set_dates.png": {
     "image/png": "[encoded data removed]"
    }
   },
   "cell_type": "markdown",
   "id": "c000f638",
   "metadata": {},
   "source": [
    "![set_dates.png](attachment:set_dates.png)"
   ]
  },
  {
   "cell_type": "code",
   "execution_count": 35,
   "id": "135ee626",
   "metadata": {},
   "outputs": [
    {
     "data": {
      "text/plain": [
       "1621568899008"
      ]
     },
     "execution_count": 35,
     "metadata": {},
     "output_type": "execute_result"
    }
   ],
   "source": [
    "d13.setFullYear(2021)"
   ]
  },
  {
   "cell_type": "code",
   "execution_count": 36,
   "id": "5666fdf6",
   "metadata": {},
   "outputs": [
    {
     "name": "stdout",
     "output_type": "stream",
     "text": [
      "2021-05-21T03:48:19.008Z\n"
     ]
    }
   ],
   "source": [
    "console.log(d13)"
   ]
  },
  {
   "cell_type": "code",
   "execution_count": 37,
   "id": "718521b1",
   "metadata": {},
   "outputs": [],
   "source": [
    "let d14 = new Date()"
   ]
  },
  {
   "cell_type": "code",
   "execution_count": 39,
   "id": "1149ef61",
   "metadata": {},
   "outputs": [
    {
     "data": {
      "text/plain": [
       "1589946848164"
      ]
     },
     "execution_count": 39,
     "metadata": {},
     "output_type": "execute_result"
    }
   ],
   "source": [
    "d14.setFullYear(2020, 04, 20)"
   ]
  },
  {
   "cell_type": "code",
   "execution_count": 40,
   "id": "f3ecc306",
   "metadata": {},
   "outputs": [
    {
     "name": "stdout",
     "output_type": "stream",
     "text": [
      "2020-05-20T03:54:08.164Z\n"
     ]
    }
   ],
   "source": [
    "console.log(d14)"
   ]
  },
  {
   "cell_type": "code",
   "execution_count": null,
   "id": "3f36dced",
   "metadata": {},
   "outputs": [],
   "source": []
  }
 ],
 "metadata": {
  "kernelspec": {
   "display_name": "Javascript (Node.js)",
   "language": "javascript",
   "name": "javascript"
  },
  "language_info": {
   "file_extension": ".js",
   "mimetype": "application/javascript",
   "name": "javascript",
   "version": "14.17.0"
  }
 },
 "nbformat": 4,
 "nbformat_minor": 5
}
