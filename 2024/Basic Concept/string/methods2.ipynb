{
 "cells": [
  {
   "cell_type": "markdown",
   "id": "f3f75c67",
   "metadata": {},
   "source": [
    "### replace()\n",
    "The replace() method replaces a specified value with another value in a string:"
   ]
  },
  {
   "cell_type": "code",
   "execution_count": 1,
   "id": "4388f970",
   "metadata": {},
   "outputs": [
    {
     "name": "stdout",
     "output_type": "stream",
     "text": [
      "Please visit W3school!\n"
     ]
    }
   ],
   "source": [
    "// The replace() method does not change the string it is called on. It returns a new string.\n",
    "let str = \"Please visit Microsoft!\"\n",
    "let a = str.replace('Microsoft','W3school')\n",
    "console.log(a)"
   ]
  },
  {
   "cell_type": "code",
   "execution_count": 2,
   "id": "5d3612aa",
   "metadata": {},
   "outputs": [
    {
     "name": "stdout",
     "output_type": "stream",
     "text": [
      "Please visit W3school and Microsoft!\n"
     ]
    }
   ],
   "source": [
    "// By default, the replace() method replaces only the first match:\n",
    "let str2 = \"Please visit Microsoft and Microsoft!\";\n",
    "let b = str2.replace('Microsoft','W3school')\n",
    "console.log(b)"
   ]
  },
  {
   "cell_type": "code",
   "execution_count": 3,
   "id": "d78e35e3",
   "metadata": {},
   "outputs": [],
   "source": [
    "let str3 = \"Please visit Microsoft!\";\n",
    "let c = str3.replace(/MICROSOFT/i, \"W3Schools\");"
   ]
  },
  {
   "cell_type": "code",
   "execution_count": 4,
   "id": "eecb982a",
   "metadata": {},
   "outputs": [],
   "source": [
    "// To replace case insensitive, use a regular expression with an /i flag (insensitive):"
   ]
  },
  {
   "cell_type": "code",
   "execution_count": 5,
   "id": "253d2c0c",
   "metadata": {},
   "outputs": [
    {
     "name": "stdout",
     "output_type": "stream",
     "text": [
      "Please visit W3Schools!\n"
     ]
    }
   ],
   "source": [
    "console.log(c)"
   ]
  },
  {
   "cell_type": "code",
   "execution_count": 6,
   "id": "aa7d8aa9",
   "metadata": {},
   "outputs": [
    {
     "name": "stdout",
     "output_type": "stream",
     "text": [
      "Please visit W3Schools!\n"
     ]
    }
   ],
   "source": [
    "// To replace all matches, use a regular expression with a /g flag (global match):\n",
    "let str4 = \"Please visit Microsoft!\";\n",
    "let d = str4.replace(/Microsoft/g, \"W3Schools\");\n",
    "console.log(d)"
   ]
  },
  {
   "cell_type": "markdown",
   "id": "eecaf33c",
   "metadata": {},
   "source": [
    "### toUpperCase() and toLowerCase()"
   ]
  },
  {
   "cell_type": "code",
   "execution_count": 1,
   "id": "62dea0f8",
   "metadata": {},
   "outputs": [
    {
     "name": "stdout",
     "output_type": "stream",
     "text": [
      "ALAMIN BHUYAN\n"
     ]
    }
   ],
   "source": [
    "let str5 = \"alamin bhuyan\"\n",
    "console.log(str5.toUpperCase())"
   ]
  },
  {
   "cell_type": "code",
   "execution_count": 2,
   "id": "97ee825b",
   "metadata": {},
   "outputs": [
    {
     "name": "stdout",
     "output_type": "stream",
     "text": [
      "alamin bhuyan\n"
     ]
    }
   ],
   "source": [
    "let str6 = \"ALAMIN BHUYAN\"\n",
    "console.log(str6.toLowerCase())"
   ]
  },
  {
   "cell_type": "markdown",
   "id": "6853c47e",
   "metadata": {},
   "source": [
    "### concat()"
   ]
  },
  {
   "cell_type": "code",
   "execution_count": 1,
   "id": "4df3b367",
   "metadata": {},
   "outputs": [
    {
     "name": "stdout",
     "output_type": "stream",
     "text": [
      "alamin bhuyan\n"
     ]
    }
   ],
   "source": [
    "let x = \"alamin\", y = \"bhuyan\"\n",
    "console.log(x.concat(\" \",y))"
   ]
  },
  {
   "cell_type": "markdown",
   "id": "1917ebad",
   "metadata": {},
   "source": [
    "All string methods return a new string. They don't modify the original string.\n",
    "Formally said: Strings are immutable: Strings cannot be changed, only replaced"
   ]
  },
  {
   "cell_type": "markdown",
   "id": "a8a2a9a8",
   "metadata": {},
   "source": [
    "### trim()\n",
    "The trim() method removes whitespace from both sides of a string:"
   ]
  },
  {
   "cell_type": "code",
   "execution_count": 2,
   "id": "e3e8040f",
   "metadata": {},
   "outputs": [
    {
     "name": "stdout",
     "output_type": "stream",
     "text": [
      "alamin bhuyan\n"
     ]
    }
   ],
   "source": [
    "console.log(\"  alamin bhuyan\".trim())"
   ]
  },
  {
   "cell_type": "code",
   "execution_count": 3,
   "id": "c6cefc4d",
   "metadata": {},
   "outputs": [
    {
     "name": "stdout",
     "output_type": "stream",
     "text": [
      "   alamin bhuyan\n"
     ]
    }
   ],
   "source": [
    "console.log(\"   alamin bhuyan\")"
   ]
  },
  {
   "cell_type": "markdown",
   "id": "f87837ec",
   "metadata": {},
   "source": [
    "### charAt()\n",
    "The charAt() method returns the character at a specified index (position) in a string:"
   ]
  },
  {
   "cell_type": "code",
   "execution_count": 5,
   "id": "62f1df6e",
   "metadata": {},
   "outputs": [
    {
     "name": "stdout",
     "output_type": "stream",
     "text": [
      "i\n"
     ]
    }
   ],
   "source": [
    "console.log(\"Alamin\".charAt('4'))"
   ]
  },
  {
   "cell_type": "markdown",
   "id": "ba7290ed",
   "metadata": {},
   "source": [
    "### charCodeAt()\n",
    "The charCodeAt() method returns the unicode of the character at a specified index in a string:\n",
    "The method returns a UTF-16 code (an integer between 0 and 65535)."
   ]
  },
  {
   "cell_type": "code",
   "execution_count": 6,
   "id": "707678a0",
   "metadata": {},
   "outputs": [
    {
     "name": "stdout",
     "output_type": "stream",
     "text": [
      "72\n"
     ]
    }
   ],
   "source": [
    "console.log(\"Hello\".charCodeAt(0))"
   ]
  },
  {
   "cell_type": "markdown",
   "id": "76aa1d6c",
   "metadata": {},
   "source": [
    "#### string to array convert"
   ]
  },
  {
   "cell_type": "code",
   "execution_count": 7,
   "id": "5abd2504",
   "metadata": {},
   "outputs": [
    {
     "name": "stdout",
     "output_type": "stream",
     "text": [
      "[ 'a', 'b', 'c', 'd', 'e' ]\n"
     ]
    }
   ],
   "source": [
    "let lis = \"a,b,c,d,e\"\n",
    "console.log(lis.split(','))"
   ]
  },
  {
   "cell_type": "code",
   "execution_count": 8,
   "id": "c5e517af",
   "metadata": {},
   "outputs": [
    {
     "name": "stdout",
     "output_type": "stream",
     "text": [
      "[ 'a,b,c,d,e' ]\n"
     ]
    }
   ],
   "source": [
    "console.log(lis.split())"
   ]
  },
  {
   "cell_type": "code",
   "execution_count": 9,
   "id": "3c0a18f7",
   "metadata": {},
   "outputs": [
    {
     "name": "stdout",
     "output_type": "stream",
     "text": [
      "[\n",
      "  'a', ',', 'b',\n",
      "  ',', 'c', ',',\n",
      "  'd', ',', 'e'\n",
      "]\n"
     ]
    }
   ],
   "source": [
    "console.log(lis.split(\"\"))"
   ]
  },
  {
   "cell_type": "markdown",
   "id": "e16856cc",
   "metadata": {},
   "source": [
    "### endsWith()"
   ]
  },
  {
   "cell_type": "code",
   "execution_count": 13,
   "id": "b492ccae",
   "metadata": {},
   "outputs": [],
   "source": [
    "let txt2 = \"Hello world, welcome to the universe.\";\n"
   ]
  },
  {
   "cell_type": "code",
   "execution_count": 14,
   "id": "362b8871",
   "metadata": {},
   "outputs": [
    {
     "name": "stdout",
     "output_type": "stream",
     "text": [
      "true\n"
     ]
    }
   ],
   "source": [
    "console.log(txt2.endsWith('universe.'))"
   ]
  },
  {
   "cell_type": "markdown",
   "id": "46c693d8",
   "metadata": {},
   "source": [
    "### fromCharCode()"
   ]
  },
  {
   "cell_type": "code",
   "execution_count": 15,
   "id": "09a9f931",
   "metadata": {},
   "outputs": [
    {
     "name": "stdout",
     "output_type": "stream",
     "text": [
      "A\n"
     ]
    }
   ],
   "source": [
    "console.log(String.fromCharCode(65))"
   ]
  },
  {
   "cell_type": "code",
   "execution_count": 16,
   "id": "00414118",
   "metadata": {},
   "outputs": [
    {
     "name": "stdout",
     "output_type": "stream",
     "text": [
      "ABC\n"
     ]
    }
   ],
   "source": [
    "console.log(String.fromCharCode(65,66,67))"
   ]
  },
  {
   "cell_type": "markdown",
   "id": "ee96e89f",
   "metadata": {},
   "source": [
    "### includes()\n",
    "The includes() method determines whether a string contains the characters of a specified string.\n",
    "This method returns true if the string contains the characters, and false if not."
   ]
  },
  {
   "cell_type": "code",
   "execution_count": 17,
   "id": "a187a32d",
   "metadata": {},
   "outputs": [
    {
     "name": "stdout",
     "output_type": "stream",
     "text": [
      "true\n"
     ]
    }
   ],
   "source": [
    "console.log(\"Hello world\".includes(\"world\"))"
   ]
  },
  {
   "cell_type": "code",
   "execution_count": 18,
   "id": "8e0e2fa6",
   "metadata": {},
   "outputs": [
    {
     "name": "stdout",
     "output_type": "stream",
     "text": [
      "false\n"
     ]
    }
   ],
   "source": [
    "console.log(\"Hello world\".includes(\"worlds\"))"
   ]
  },
  {
   "cell_type": "markdown",
   "id": "1b35a9a8",
   "metadata": {},
   "source": [
    "### match()\n",
    "The match() method searches a string for a match against a regular expression, \n",
    "and returns the matches, as an Array object."
   ]
  },
  {
   "cell_type": "code",
   "execution_count": 19,
   "id": "7d2fef4e",
   "metadata": {},
   "outputs": [
    {
     "name": "stdout",
     "output_type": "stream",
     "text": [
      "[ 'ain', 'ain', 'ain' ]\n"
     ]
    }
   ],
   "source": [
    "console.log(\"The rain in SPAIN stays mainly in the plain\".match(/ain/g))"
   ]
  },
  {
   "cell_type": "markdown",
   "id": "197c7063",
   "metadata": {},
   "source": [
    "### repeat()"
   ]
  },
  {
   "cell_type": "code",
   "execution_count": 20,
   "id": "66a5d662",
   "metadata": {},
   "outputs": [
    {
     "name": "stdout",
     "output_type": "stream",
     "text": [
      "hello worldhello world\n"
     ]
    }
   ],
   "source": [
    "console.log(\"hello world\".repeat(2))"
   ]
  },
  {
   "cell_type": "code",
   "execution_count": 21,
   "id": "0d0587d5",
   "metadata": {},
   "outputs": [
    {
     "name": "stdout",
     "output_type": "stream",
     "text": [
      "hello worldhello worldhello worldhello world\n"
     ]
    }
   ],
   "source": [
    "console.log(\"hello world\".repeat(4))"
   ]
  },
  {
   "cell_type": "code",
   "execution_count": null,
   "id": "adb6c6b7",
   "metadata": {},
   "outputs": [],
   "source": []
  }
 ],
 "metadata": {
  "kernelspec": {
   "display_name": "Javascript (Node.js)",
   "language": "javascript",
   "name": "javascript"
  },
  "language_info": {
   "file_extension": ".js",
   "mimetype": "application/javascript",
   "name": "javascript",
   "version": "14.17.0"
  }
 },
 "nbformat": 4,
 "nbformat_minor": 5
}